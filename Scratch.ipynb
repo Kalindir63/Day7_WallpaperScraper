{
 "cells": [
  {
   "cell_type": "code",
   "execution_count": null,
   "metadata": {},
   "outputs": [],
   "source": [
    "from pathlib import Path, WindowsPath\n",
    "from datetime import datetime as dt\n",
    "import re\n",
    "\n",
    "DESKTOP = WindowsPath.home() / 'desktop'\n",
    "\n",
    "DESTINATION_PATH = DESKTOP / 'Windows Wallpapers'\n",
    "\n",
    "\n",
    "DATE_STR = dt.now().strftime('%Y%m%d')\n",
    "\n",
    "source = 'Windows'\n",
    "source = f'_{source}' if source else \"\"\n",
    "ext = 'jpg'\n",
    "name = f'{DATE_STR}{source}_08.{ext}'\n",
    "\n",
    "# for x in DESTINATION_PATH.iterdir():\n",
    "    # filename = x.stem\n",
    "filename = name\n",
    "pattern = '_(\\d*)\\.'\n",
    "res = re.search(pattern, filename)\n",
    "print(res.group(1))\n"
   ]
  },
  {
   "cell_type": "code",
   "execution_count": null,
   "metadata": {},
   "outputs": [],
   "source": [
    "from pathlib import Path, WindowsPath\n",
    "\n",
    "# files = [{DESTINATION_PATH} / '20222007_Windows_01.jpg', {DESTINATION_PATH} / '20222007_Windows_06.jpg', {DESTINATION_PATH} / '20222007_Windows_09.jpg']\n",
    "filename = DESTINATION_PATH / '20222007_Windows_0{0}.jpg'\n",
    "\n",
    "files = [Path(str(filename).format(f)) for f in range(1, 9)]\n",
    "files\n",
    "# max(files)"
   ]
  },
  {
   "cell_type": "code",
   "execution_count": 5,
   "metadata": {},
   "outputs": [
    {
     "name": "stdout",
     "output_type": "stream",
     "text": [
      "C:\\Users\\bradley.COMPRSA\\Desktop\\Windows Wallpapers\\1.jpg\n",
      "P 0.5625\n",
      "C:\\Users\\bradley.COMPRSA\\Desktop\\Windows Wallpapers\\10.jpg\n",
      "P 0.5625\n",
      "C:\\Users\\bradley.COMPRSA\\Desktop\\Windows Wallpapers\\11.jpg\n",
      "L 1.7777777777777777\n",
      "C:\\Users\\bradley.COMPRSA\\Desktop\\Windows Wallpapers\\12.jpg\n",
      "L 1.7777777777777777\n",
      "C:\\Users\\bradley.COMPRSA\\Desktop\\Windows Wallpapers\\2.jpg\n",
      "P 0.5625\n",
      "C:\\Users\\bradley.COMPRSA\\Desktop\\Windows Wallpapers\\3.jpg\n",
      "P 0.5625\n",
      "C:\\Users\\bradley.COMPRSA\\Desktop\\Windows Wallpapers\\4.jpg\n",
      "L 1.7777777777777777\n",
      "C:\\Users\\bradley.COMPRSA\\Desktop\\Windows Wallpapers\\5.jpg\n",
      "L 1.7777777777777777\n",
      "C:\\Users\\bradley.COMPRSA\\Desktop\\Windows Wallpapers\\6.jpg\n",
      "L 1.7777777777777777\n",
      "C:\\Users\\bradley.COMPRSA\\Desktop\\Windows Wallpapers\\7.jpg\n",
      "P 0.5625\n",
      "C:\\Users\\bradley.COMPRSA\\Desktop\\Windows Wallpapers\\8.jpg\n",
      "L 1.7777777777777777\n",
      "C:\\Users\\bradley.COMPRSA\\Desktop\\Windows Wallpapers\\9.jpg\n",
      "P 0.5625\n"
     ]
    }
   ],
   "source": [
    "from pathlib import Path, WindowsPath\n",
    "from PIL import Image\n",
    "\n",
    "DESKTOP = WindowsPath.home() / 'desktop'\n",
    "\n",
    "DESTINATION_PATH = DESKTOP / 'Windows Wallpapers'\n",
    "\n",
    "files = DESTINATION_PATH.iterdir()\n",
    "\n",
    "for file in files:\n",
    "    fpath = str(file.resolve())\n",
    "    print(fpath)\n",
    "    with Image.open(fpath) as im:\n",
    "        fsize = im.size\n",
    "        ratio = fsize[0] / fsize[1]\n",
    "        orientation = \"P\" if ratio <= 1 else \"L\"\n",
    "        print(orientation, ratio)\n",
    "    \n",
    "    "
   ]
  }
 ],
 "metadata": {
  "kernelspec": {
   "display_name": "Python 3.9.6 ('Day7_WallpaperScraper-av8ybVgs')",
   "language": "python",
   "name": "python3"
  },
  "language_info": {
   "codemirror_mode": {
    "name": "ipython",
    "version": 3
   },
   "file_extension": ".py",
   "mimetype": "text/x-python",
   "name": "python",
   "nbconvert_exporter": "python",
   "pygments_lexer": "ipython3",
   "version": "3.9.6"
  },
  "orig_nbformat": 4,
  "vscode": {
   "interpreter": {
    "hash": "f1c82e4f8e3e4f2a0fc483d9319b544f64b6d1c8c8d927efb826e59c51303668"
   }
  }
 },
 "nbformat": 4,
 "nbformat_minor": 2
}
