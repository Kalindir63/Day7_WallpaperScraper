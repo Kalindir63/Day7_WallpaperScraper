{
 "cells": [
  {
   "cell_type": "code",
   "execution_count": 21,
   "metadata": {},
   "outputs": [
    {
     "name": "stdout",
     "output_type": "stream",
     "text": [
      "08\n"
     ]
    }
   ],
   "source": [
    "from pathlib import Path, WindowsPath\n",
    "from datetime import datetime as dt\n",
    "import re\n",
    "\n",
    "DESKTOP = WindowsPath.home() / 'desktop'\n",
    "\n",
    "DESTINATION_PATH = DESKTOP / 'Windows Wallpapers'\n",
    "\n",
    "\n",
    "DATE_STR = dt.now().strftime('%Y%m%d')\n",
    "\n",
    "source = 'Windows'\n",
    "source = f'_{source}' if source else \"\"\n",
    "ext = 'jpg'\n",
    "name = f'{DATE_STR}{source}_08.{ext}'\n",
    "\n",
    "# for x in DESTINATION_PATH.iterdir():\n",
    "    # filename = x.stem\n",
    "filename = name\n",
    "pattern = '_(\\d*)\\.'\n",
    "res = re.search(pattern, filename)\n",
    "print(res.group(1))\n"
   ]
  },
  {
   "cell_type": "code",
   "execution_count": 40,
   "metadata": {},
   "outputs": [
    {
     "data": {
      "text/plain": [
       "[WindowsPath('C:/Users/bradley.COMPRSA/desktop/Windows Wallpapers/20222007_Windows_01.jpg'),\n",
       " WindowsPath('C:/Users/bradley.COMPRSA/desktop/Windows Wallpapers/20222007_Windows_02.jpg'),\n",
       " WindowsPath('C:/Users/bradley.COMPRSA/desktop/Windows Wallpapers/20222007_Windows_03.jpg'),\n",
       " WindowsPath('C:/Users/bradley.COMPRSA/desktop/Windows Wallpapers/20222007_Windows_04.jpg'),\n",
       " WindowsPath('C:/Users/bradley.COMPRSA/desktop/Windows Wallpapers/20222007_Windows_05.jpg'),\n",
       " WindowsPath('C:/Users/bradley.COMPRSA/desktop/Windows Wallpapers/20222007_Windows_06.jpg'),\n",
       " WindowsPath('C:/Users/bradley.COMPRSA/desktop/Windows Wallpapers/20222007_Windows_07.jpg'),\n",
       " WindowsPath('C:/Users/bradley.COMPRSA/desktop/Windows Wallpapers/20222007_Windows_08.jpg')]"
      ]
     },
     "execution_count": 40,
     "metadata": {},
     "output_type": "execute_result"
    }
   ],
   "source": [
    "from pathlib import Path, WindowsPath\n",
    "\n",
    "# files = [{DESTINATION_PATH} / '20222007_Windows_01.jpg', {DESTINATION_PATH} / '20222007_Windows_06.jpg', {DESTINATION_PATH} / '20222007_Windows_09.jpg']\n",
    "filename = DESTINATION_PATH / '20222007_Windows_0{0}.jpg'\n",
    "\n",
    "files = [Path(str(filename).format(f)) for f in range(1, 9)]\n",
    "files\n",
    "# max(files)"
   ]
  },
  {
   "cell_type": "code",
   "execution_count": null,
   "metadata": {},
   "outputs": [],
   "source": []
  }
 ],
 "metadata": {
  "kernelspec": {
   "display_name": "Python 3.9.7 64-bit ('3.9.7')",
   "language": "python",
   "name": "python3"
  },
  "language_info": {
   "codemirror_mode": {
    "name": "ipython",
    "version": 3
   },
   "file_extension": ".py",
   "mimetype": "text/x-python",
   "name": "python",
   "nbconvert_exporter": "python",
   "pygments_lexer": "ipython3",
   "version": "3.9.7"
  },
  "orig_nbformat": 4,
  "vscode": {
   "interpreter": {
    "hash": "549426a09a5be49f27cbf761f6d75f5c316ec8f4cd8109fca81e524e0f245a0e"
   }
  }
 },
 "nbformat": 4,
 "nbformat_minor": 2
}
